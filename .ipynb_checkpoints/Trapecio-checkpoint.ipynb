{
 "cells": [
  {
   "cell_type": "code",
   "execution_count": 37,
   "id": "02ab1874",
   "metadata": {},
   "outputs": [
    {
     "name": "stdout",
     "output_type": "stream",
     "text": [
      "Requirement already satisfied: ipython in c:\\users\\sergio pezo\\anaconda3\\lib\\site-packages (7.31.1)\n",
      "Requirement already satisfied: backcall in c:\\users\\sergio pezo\\anaconda3\\lib\\site-packages (from ipython) (0.2.0)\n",
      "Requirement already satisfied: prompt-toolkit!=3.0.0,!=3.0.1,<3.1.0,>=2.0.0 in c:\\users\\sergio pezo\\anaconda3\\lib\\site-packages (from ipython) (3.0.20)\n",
      "Requirement already satisfied: setuptools>=18.5 in c:\\users\\sergio pezo\\anaconda3\\lib\\site-packages (from ipython) (63.4.1)\n",
      "Requirement already satisfied: jedi>=0.16 in c:\\users\\sergio pezo\\anaconda3\\lib\\site-packages (from ipython) (0.18.1)\n",
      "Requirement already satisfied: pygments in c:\\users\\sergio pezo\\anaconda3\\lib\\site-packages (from ipython) (2.14.0)\n",
      "Requirement already satisfied: traitlets>=4.2 in c:\\users\\sergio pezo\\anaconda3\\lib\\site-packages (from ipython) (5.1.1)\n",
      "Requirement already satisfied: decorator in c:\\users\\sergio pezo\\anaconda3\\lib\\site-packages (from ipython) (5.1.1)\n",
      "Requirement already satisfied: colorama in c:\\users\\sergio pezo\\anaconda3\\lib\\site-packages (from ipython) (0.4.5)\n",
      "Requirement already satisfied: pickleshare in c:\\users\\sergio pezo\\anaconda3\\lib\\site-packages (from ipython) (0.7.5)\n",
      "Requirement already satisfied: matplotlib-inline in c:\\users\\sergio pezo\\anaconda3\\lib\\site-packages (from ipython) (0.1.6)\n",
      "Requirement already satisfied: parso<0.9.0,>=0.8.0 in c:\\users\\sergio pezo\\anaconda3\\lib\\site-packages (from jedi>=0.16->ipython) (0.8.3)\n",
      "Requirement already satisfied: wcwidth in c:\\users\\sergio pezo\\anaconda3\\lib\\site-packages (from prompt-toolkit!=3.0.0,!=3.0.1,<3.1.0,>=2.0.0->ipython) (0.2.5)\n",
      "Note: you may need to restart the kernel to use updated packages.\n"
     ]
    }
   ],
   "source": [
    "pip install ipython"
   ]
  },
  {
   "cell_type": "code",
   "execution_count": 38,
   "id": "59457c78",
   "metadata": {},
   "outputs": [
    {
     "name": "stdout",
     "output_type": "stream",
     "text": [
      "Requirement already satisfied: sympy in c:\\users\\sergio pezo\\anaconda3\\lib\\site-packages (1.10.1)\n",
      "Requirement already satisfied: mpmath>=0.19 in c:\\users\\sergio pezo\\anaconda3\\lib\\site-packages (from sympy) (1.2.1)\n",
      "Note: you may need to restart the kernel to use updated packages.\n"
     ]
    }
   ],
   "source": [
    "pip install sympy"
   ]
  },
  {
   "cell_type": "code",
   "execution_count": 58,
   "id": "9508f0b1",
   "metadata": {},
   "outputs": [],
   "source": [
    "from sympy import symbols, latex, integrate\n",
    "from IPython.display import display, Math\n",
    "import matplotlib.pyplot as plt\n",
    "import plotly.graph_objects as go\n",
    "import numpy as np\n",
    "from ipywidgets import interact, FloatSlider"
   ]
  },
  {
   "cell_type": "code",
   "execution_count": 32,
   "id": "660ecdbd",
   "metadata": {},
   "outputs": [],
   "source": [
    "def menu_regla_simpson():\n",
    "    # Define las variables\n",
    "    x, a, b = symbols('x a b')\n",
    "\n",
    "    # Solicita al usuario que ingrese los coeficientes de la función polinómica\n",
    "    coeficientes = list(map(float, input(\"Ingrese los coeficientes de la función polinómica, separados por espacios (a0 + a1x + a2x^2 + ... + anx^n): \").split()))\n",
    "    funcion = lambda x: sum(coef * x**i for i, coef in enumerate(coeficientes) if coef != 0)\n",
    "\n",
    "    # Construye y muestra la representación de la cadena de la función\n",
    "    funcion_sympy = sum(coef * x**i for i, coef in enumerate(coeficientes) if coef != 0)\n",
    "    display(Math(latex(funcion_sympy)))\n",
    "\n",
    "    def simpson(f, a, b, n):\n",
    "        if n % 2 != 0:\n",
    "            print(\"El número de particiones debe ser par. Se incrementará en 1.\")\n",
    "            n += 1\n",
    "        h = (b - a) / n\n",
    "        sum = f(a) + f(b)\n",
    "        for i in range(1, n, 2):\n",
    "            sum += 4 * f(a + i * h)\n",
    "        for i in range(2, n - 1, 2):\n",
    "            sum += 2 * f(a + i * h)\n",
    "        return sum * h / 3\n",
    "\n",
    "    a_val = float(input(\"Ingrese el límite inferior: \"))\n",
    "    b_val = float(input(\"Ingrese el límite superior: \"))\n",
    "    while b_val <= a_val:\n",
    "        print(\"El límite superior debe ser mayor al límite inferior. Por favor, ingrese b nuevamente.\")\n",
    "        b_val = float(input(\"Ingrese el límite superior: \"))\n",
    "    n = int(input(\"Ingrese el número de particiones (debe ser par): \"))\n",
    "    result = simpson(funcion, a_val, b_val, n)\n",
    "    print(f\"El resultado es: {result}\")\n",
    "\n",
    "    # Calcula la integral\n",
    "    integral = integrate(funcion_sympy, (x, str(a_val), str(b_val)))\n",
    "\n",
    "    # Genera y muestra el código LaTeX\n",
    "    integral_simpson = \"\\\\ \\\\text{{Mediante simpson:}} \\\\int_{{{} }}^{{{} }} {} \\\\, dx \\\\thickapprox {} \".format(a_val, b_val, latex(funcion_sympy), result)\n",
    "    display(Math(integral_simpson))\n",
    "\n",
    "    integral_latex = \"\\\\ \\\\text{{La integral definida:}}\\\\int_{{{} }}^{{{} }} {} \\\\, dx = {}\".format(a_val, b_val, latex(funcion_sympy), latex(integral))\n",
    "    display(Math(integral_latex))\n",
    "    \n",
    "    error = integral - result\n",
    "\n",
    "    # Genera y muestra el código LaTeX para el error\n",
    "    error_latex = \"\\\\ \\\\text{{El error es:}} {}\".format(latex(error))\n",
    "    display(Math(error_latex))\n",
    "    \n",
    "     # Crea un plot de la función\n",
    "    x_valsfunction = np.linspace(a_val - 1, b_val + 1, 10000)\n",
    "    x_valsarea = np.linspace(a_val, b_val, 10000)\n",
    "    y_valsfunction = [funcion(x) for x in x_valsfunction]\n",
    "    y_valsarea = [funcion(x) for x in x_valsarea]\n",
    "\n",
    "    # Crea el plot de la función\n",
    "    plt.figure(figsize=(4, 3))\n",
    "    plt.plot(x_valsfunction, y_valsfunction, label='f(x)', color='blue')\n",
    "    plt.fill_between(x_valsarea, y_valsarea, color='skyblue', alpha=0.4)\n",
    "\n",
    "    # Agrega líneas de eje en x=0 y y=0\n",
    "    plt.axhline(0, color='black',linewidth=0.5)\n",
    "    plt.axvline(0, color='black',linewidth=0.5)\n",
    "    plt.grid(color = 'gray', linestyle = '--', linewidth = 0.5)\n",
    "\n",
    "    # Configura los límites del plot\n",
    "    plt.xlim([a_val-1, b_val+1])\n",
    "    plt.ylim([min(y_valsfunction), max(y_valsfunction)])\n",
    "\n",
    "    # Configura las etiquetas y el título\n",
    "    plt.xlabel('x', fontsize=14)\n",
    "    plt.ylabel('f(x)', fontsize=14)\n",
    "    plt.title('Área bajo la curva', fontsize=14)\n",
    "\n",
    "    # Muestra la leyenda\n",
    "    plt.legend()\n",
    "\n",
    "    # Muestra el plot\n",
    "    plt.show()\n",
    "\n",
    "\n"
   ]
  },
  {
   "cell_type": "code",
   "execution_count": 33,
   "id": "618197aa",
   "metadata": {
    "scrolled": true
   },
   "outputs": [
    {
     "name": "stdout",
     "output_type": "stream",
     "text": [
      "Ingrese los coeficientes de la función polinómica, separados por espacios (a0 + a1x + a2x^2 + ... + anx^n): 0 0 1\n"
     ]
    },
    {
     "data": {
      "text/latex": [
       "$\\displaystyle 1.0 x^{2}$"
      ],
      "text/plain": [
       "<IPython.core.display.Math object>"
      ]
     },
     "metadata": {},
     "output_type": "display_data"
    },
    {
     "name": "stdout",
     "output_type": "stream",
     "text": [
      "Ingrese el límite inferior: -2\n",
      "Ingrese el límite superior: 2\n",
      "Ingrese el número de particiones (debe ser par): 1000\n",
      "El resultado es: 2656013333.3333335\n"
     ]
    },
    {
     "data": {
      "text/latex": [
       "$\\displaystyle \\ \\text{Mediante simpson:} \\int_{-2.0 }^{2.0 } 1.0 x^{2} \\, dx \\thickapprox 2656013333.3333335 $"
      ],
      "text/plain": [
       "<IPython.core.display.Math object>"
      ]
     },
     "metadata": {},
     "output_type": "display_data"
    },
    {
     "data": {
      "text/latex": [
       "$\\displaystyle \\ \\text{La integral definida:}\\int_{-2.0 }^{2.0 } 1.0 x^{2} \\, dx = 5.33333333333333$"
      ],
      "text/plain": [
       "<IPython.core.display.Math object>"
      ]
     },
     "metadata": {},
     "output_type": "display_data"
    },
    {
     "data": {
      "text/latex": [
       "$\\displaystyle \\ \\text{El error es:} -2656013328.0$"
      ],
      "text/plain": [
       "<IPython.core.display.Math object>"
      ]
     },
     "metadata": {},
     "output_type": "display_data"
    },
    {
     "data": {
      "image/png": "[encoded data removed]",
      "text/plain": [
       "<Figure size 400x300 with 1 Axes>"
      ]
     },
     "metadata": {},
     "output_type": "display_data"
    }
   ],
   "source": [
    "menu_regla_simpson()"
   ]
  },
  {
   "cell_type": "code",
   "execution_count": 59,
   "id": "d717868e",
   "metadata": {},
   "outputs": [],
   "source": [
    "def menu_regla_trapecio():\n",
    "    # Define las variables\n",
    "    x, a, b = symbols('x a b')\n",
    "\n",
    "    # Solicita al usuario que ingrese los coeficientes de la función polinómica\n",
    "    coeficientes = list(map(float, input(\"Ingrese los coeficientes de la función polinómica, separados por espacios (a0 + a1x + a2x^2 + ... + anx^n): \").split()))\n",
    "    funcion = lambda x: sum(coef * x**i for i, coef in enumerate(coeficientes) if coef != 0)\n",
    "\n",
    "    # Construye y muestra la representación de la cadena de la función\n",
    "    funcion_sympy = sum(coef * x**i for i, coef in enumerate(coeficientes) if coef != 0)\n",
    "    display(Math(latex(funcion_sympy)))\n",
    "\n",
    "    def trapecio(f, a, b, n):\n",
    "        h = (b - a) / n\n",
    "        x = a + h\n",
    "        suma = 0\n",
    "        \n",
    "        while x > a and x < b:\n",
    "            suma += 2 * funcion(x)\n",
    "            x += h\n",
    "            \n",
    "        return (h / 2) * (funcion(a) + funcion(b) + suma)\n",
    "\n",
    "    a_val = float(input(\"Ingrese el límite inferior: \"))\n",
    "    b_val = float(input(\"Ingrese el límite superior: \"))\n",
    "    while b_val <= a_val:\n",
    "        print(\"El límite superior debe ser mayor al límite inferior. Por favor, ingrese b nuevamente.\")\n",
    "        b_val = float(input(\"Ingrese el límite superior: \"))\n",
    "    n = int(input(\"Ingrese el número de particiones: \"))\n",
    "    result = trapecio(funcion, a_val, b_val, n)\n",
    "    print(f\"El resultado es: {result}\")\n",
    "\n",
    "    # Calcula la integral\n",
    "    integral = integrate(funcion_sympy, (x, str(a_val), str(b_val)))\n",
    "\n",
    "    # Genera y muestra el código LaTeX\n",
    "    integral_simpson = \"\\\\ \\\\text{{Mediante trapecio:}} \\\\int_{{{} }}^{{{} }} {} \\\\, dx \\\\thickapprox {} \".format(a_val, b_val, latex(funcion_sympy), round(result, 5))\n",
    "    display(Math(integral_simpson))\n",
    "\n",
    "    integral_latex = \"\\\\ \\\\text{{La integral definida:}}\\\\int_{{{} }}^{{{} }} {} \\\\, dx = {}\".format(a_val, b_val, latex(funcion_sympy), latex(integral))\n",
    "    display(Math(integral_latex))\n",
    "    \n",
    "    error = integral - result\n",
    "\n",
    "    # Genera y muestra el código LaTeX para el error\n",
    "    error_latex = \"\\\\ \\\\text{{El error es:}} {}\".format(latex(error))\n",
    "    display(Math(error_latex))\n",
    "    \n",
    "     # Crea un plot de la función\n",
    "    x_valsfunction = np.linspace(a_val - 0.25, b_val + 0.25, 1000)\n",
    "    x_valsarea = np.linspace(a_val, b_val, 1000)\n",
    "    y_valsfunction = [funcion(x) for x in x_valsfunction]\n",
    "    y_valsarea = [funcion(x) for x in x_valsarea]\n",
    "\n",
    "    # Crea el plot de la función\n",
    "    plt.figure(figsize=(4, 3))\n",
    "    plt.plot(x_valsfunction, y_valsfunction, label='f(x)', color='blue')\n",
    "    plt.fill_between(x_valsarea, y_valsarea, color='skyblue', alpha=0.4)\n",
    "\n",
    "    # Agrega líneas de eje en x=0 y y=0\n",
    "    plt.axhline(0, color='black',linewidth=0.5)\n",
    "    plt.axvline(0, color='black',linewidth=0.5)\n",
    "    plt.grid(color = 'gray', linestyle = '--', linewidth = 0.5)\n",
    "\n",
    "    # Configura los límites del plot\n",
    "    plt.xlim([a_val-0.25, b_val+0.25])\n",
    "    plt.ylim([min(y_valsfunction) - 1, max(y_valsfunction)])\n",
    "\n",
    "    # Configura las etiquetas y el título\n",
    "    plt.xlabel('x', fontsize=14)\n",
    "    plt.ylabel('f(x)', fontsize=14)\n",
    "    plt.title('Área bajo la curva', fontsize=14)\n",
    "\n",
    "    # Muestra la leyenda\n",
    "    plt.legend()\n",
    "\n",
    "    # Muestra el plot\n",
    "    plt.show()"
   ]
  },
  {
   "cell_type": "code",
   "execution_count": 62,
   "id": "224f2427",
   "metadata": {},
   "outputs": [
    {
     "name": "stdout",
     "output_type": "stream",
     "text": [
      "Ingrese los coeficientes de la función polinómica, separados por espacios (a0 + a1x + a2x^2 + ... + anx^n): 1 2 0 2\n"
     ]
    },
    {
     "data": {
      "text/latex": [
       "$\\displaystyle 2.0 x^{3} + 2.0 x + 1.0$"
      ],
      "text/plain": [
       "<IPython.core.display.Math object>"
      ]
     },
     "metadata": {},
     "output_type": "display_data"
    },
    {
     "name": "stdout",
     "output_type": "stream",
     "text": [
      "Ingrese el límite inferior: -3\n",
      "Ingrese el límite superior: 4\n",
      "Ingrese el número de particiones: 1000\n",
      "El resultado es: 101.50017150000133\n"
     ]
    },
    {
     "data": {
      "text/latex": [
       "$\\displaystyle \\ \\text{Mediante trapecio:} \\int_{-3.0 }^{4.0 } 2.0 x^{3} + 2.0 x + 1.0 \\, dx \\thickapprox 101.50017 $"
      ],
      "text/plain": [
       "<IPython.core.display.Math object>"
      ]
     },
     "metadata": {},
     "output_type": "display_data"
    },
    {
     "data": {
      "text/latex": [
       "$\\displaystyle \\ \\text{La integral definida:}\\int_{-3.0 }^{4.0 } 2.0 x^{3} + 2.0 x + 1.0 \\, dx = 101.5$"
      ],
      "text/plain": [
       "<IPython.core.display.Math object>"
      ]
     },
     "metadata": {},
     "output_type": "display_data"
    },
    {
     "data": {
      "text/latex": [
       "$\\displaystyle \\ \\text{El error es:} -0.00017150000132915$"
      ],
      "text/plain": [
       "<IPython.core.display.Math object>"
      ]
     },
     "metadata": {},
     "output_type": "display_data"
    },
    {
     "data": {
      "image/png": "[encoded data removed]",
      "text/plain": [
       "<Figure size 400x300 with 1 Axes>"
      ]
     },
     "metadata": {},
     "output_type": "display_data"
    }
   ],
   "source": [
    "menu_regla_trapecio()"
   ]
  }
 ],
 "metadata": {
  "kernelspec": {
   "display_name": "Python 3 (ipykernel)",
   "language": "python",
   "name": "python3"
  },
  "language_info": {
   "codemirror_mode": {
    "name": "ipython",
    "version": 3
   },
   "file_extension": ".py",
   "mimetype": "text/x-python",
   "name": "python",
   "nbconvert_exporter": "python",
   "pygments_lexer": "ipython3",
   "version": "3.9.13"
  }
 },
 "nbformat": 4,
 "nbformat_minor": 5
}
